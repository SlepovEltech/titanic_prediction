{
 "cells": [
  {
   "cell_type": "code",
   "execution_count": 1,
   "metadata": {
    "execution": {
     "iopub.execute_input": "2021-10-12T05:39:16.935596Z",
     "iopub.status.busy": "2021-10-12T05:39:16.934871Z",
     "iopub.status.idle": "2021-10-12T05:39:17.965068Z",
     "shell.execute_reply": "2021-10-12T05:39:17.964212Z",
     "shell.execute_reply.started": "2021-10-12T05:39:16.935488Z"
    }
   },
   "outputs": [],
   "source": [
    "import pandas as pd\n",
    "import numpy as np\n",
    "\n",
    "from sklearn.ensemble import RandomForestClassifier\n",
    "from sklearn.model_selection import GridSearchCV"
   ]
  },
  {
   "cell_type": "code",
   "execution_count": 2,
   "metadata": {
    "execution": {
     "iopub.execute_input": "2021-10-12T06:34:42.08242Z",
     "iopub.status.busy": "2021-10-12T06:34:42.082147Z",
     "iopub.status.idle": "2021-10-12T06:34:42.097957Z",
     "shell.execute_reply": "2021-10-12T06:34:42.097311Z",
     "shell.execute_reply.started": "2021-10-12T06:34:42.082395Z"
    }
   },
   "outputs": [],
   "source": [
    "# Читаем CSV в Pandas Dataframe\n",
    "train_data = pd.read_csv(\"train.csv\")\n",
    "test_data = pd.read_csv(\"test.csv\")"
   ]
  },
  {
   "cell_type": "code",
   "execution_count": 3,
   "metadata": {
    "execution": {
     "iopub.execute_input": "2021-10-12T06:34:44.880203Z",
     "iopub.status.busy": "2021-10-12T06:34:44.879545Z",
     "iopub.status.idle": "2021-10-12T06:34:44.889141Z",
     "shell.execute_reply": "2021-10-12T06:34:44.888384Z",
     "shell.execute_reply.started": "2021-10-12T06:34:44.880163Z"
    }
   },
   "outputs": [],
   "source": [
    "# Объединим тестовую и тренировочную выборку для наилучшего представления о значениях признаков\n",
    "all_data = train_data.append(test_data, ignore_index=True)\n",
    "# Посчитаем индексы для последующего разделения объединенной выборки на тренировочную и тестовую\n",
    "train_idx = len(train_data)\n",
    "test_idx = len(all_data) - len(test_data)"
   ]
  },
  {
   "cell_type": "code",
   "execution_count": 4,
   "metadata": {
    "execution": {
     "iopub.execute_input": "2021-10-12T06:34:47.198245Z",
     "iopub.status.busy": "2021-10-12T06:34:47.197663Z",
     "iopub.status.idle": "2021-10-12T06:34:47.215122Z",
     "shell.execute_reply": "2021-10-12T06:34:47.213763Z",
     "shell.execute_reply.started": "2021-10-12T06:34:47.198208Z"
    }
   },
   "outputs": [
    {
     "data": {
      "text/html": [
       "<div>\n",
       "<style scoped>\n",
       "    .dataframe tbody tr th:only-of-type {\n",
       "        vertical-align: middle;\n",
       "    }\n",
       "\n",
       "    .dataframe tbody tr th {\n",
       "        vertical-align: top;\n",
       "    }\n",
       "\n",
       "    .dataframe thead th {\n",
       "        text-align: right;\n",
       "    }\n",
       "</style>\n",
       "<table border=\"1\" class=\"dataframe\">\n",
       "  <thead>\n",
       "    <tr style=\"text-align: right;\">\n",
       "      <th></th>\n",
       "      <th>PassengerId</th>\n",
       "      <th>Survived</th>\n",
       "      <th>Pclass</th>\n",
       "      <th>Name</th>\n",
       "      <th>Sex</th>\n",
       "      <th>Age</th>\n",
       "      <th>SibSp</th>\n",
       "      <th>Parch</th>\n",
       "      <th>Ticket</th>\n",
       "      <th>Fare</th>\n",
       "      <th>Cabin</th>\n",
       "      <th>Embarked</th>\n",
       "    </tr>\n",
       "  </thead>\n",
       "  <tbody>\n",
       "    <tr>\n",
       "      <th>0</th>\n",
       "      <td>1</td>\n",
       "      <td>0.0</td>\n",
       "      <td>3</td>\n",
       "      <td>Braund, Mr. Owen Harris</td>\n",
       "      <td>male</td>\n",
       "      <td>22.0</td>\n",
       "      <td>1</td>\n",
       "      <td>0</td>\n",
       "      <td>A/5 21171</td>\n",
       "      <td>7.2500</td>\n",
       "      <td>NaN</td>\n",
       "      <td>S</td>\n",
       "    </tr>\n",
       "    <tr>\n",
       "      <th>1</th>\n",
       "      <td>2</td>\n",
       "      <td>1.0</td>\n",
       "      <td>1</td>\n",
       "      <td>Cumings, Mrs. John Bradley (Florence Briggs Th...</td>\n",
       "      <td>female</td>\n",
       "      <td>38.0</td>\n",
       "      <td>1</td>\n",
       "      <td>0</td>\n",
       "      <td>PC 17599</td>\n",
       "      <td>71.2833</td>\n",
       "      <td>C85</td>\n",
       "      <td>C</td>\n",
       "    </tr>\n",
       "    <tr>\n",
       "      <th>2</th>\n",
       "      <td>3</td>\n",
       "      <td>1.0</td>\n",
       "      <td>3</td>\n",
       "      <td>Heikkinen, Miss. Laina</td>\n",
       "      <td>female</td>\n",
       "      <td>26.0</td>\n",
       "      <td>0</td>\n",
       "      <td>0</td>\n",
       "      <td>STON/O2. 3101282</td>\n",
       "      <td>7.9250</td>\n",
       "      <td>NaN</td>\n",
       "      <td>S</td>\n",
       "    </tr>\n",
       "    <tr>\n",
       "      <th>3</th>\n",
       "      <td>4</td>\n",
       "      <td>1.0</td>\n",
       "      <td>1</td>\n",
       "      <td>Futrelle, Mrs. Jacques Heath (Lily May Peel)</td>\n",
       "      <td>female</td>\n",
       "      <td>35.0</td>\n",
       "      <td>1</td>\n",
       "      <td>0</td>\n",
       "      <td>113803</td>\n",
       "      <td>53.1000</td>\n",
       "      <td>C123</td>\n",
       "      <td>S</td>\n",
       "    </tr>\n",
       "    <tr>\n",
       "      <th>4</th>\n",
       "      <td>5</td>\n",
       "      <td>0.0</td>\n",
       "      <td>3</td>\n",
       "      <td>Allen, Mr. William Henry</td>\n",
       "      <td>male</td>\n",
       "      <td>35.0</td>\n",
       "      <td>0</td>\n",
       "      <td>0</td>\n",
       "      <td>373450</td>\n",
       "      <td>8.0500</td>\n",
       "      <td>NaN</td>\n",
       "      <td>S</td>\n",
       "    </tr>\n",
       "  </tbody>\n",
       "</table>\n",
       "</div>"
      ],
      "text/plain": [
       "   PassengerId  Survived  Pclass  \\\n",
       "0            1       0.0       3   \n",
       "1            2       1.0       1   \n",
       "2            3       1.0       3   \n",
       "3            4       1.0       1   \n",
       "4            5       0.0       3   \n",
       "\n",
       "                                                Name     Sex   Age  SibSp  \\\n",
       "0                            Braund, Mr. Owen Harris    male  22.0      1   \n",
       "1  Cumings, Mrs. John Bradley (Florence Briggs Th...  female  38.0      1   \n",
       "2                             Heikkinen, Miss. Laina  female  26.0      0   \n",
       "3       Futrelle, Mrs. Jacques Heath (Lily May Peel)  female  35.0      1   \n",
       "4                           Allen, Mr. William Henry    male  35.0      0   \n",
       "\n",
       "   Parch            Ticket     Fare Cabin Embarked  \n",
       "0      0         A/5 21171   7.2500   NaN        S  \n",
       "1      0          PC 17599  71.2833   C85        C  \n",
       "2      0  STON/O2. 3101282   7.9250   NaN        S  \n",
       "3      0            113803  53.1000  C123        S  \n",
       "4      0            373450   8.0500   NaN        S  "
      ]
     },
     "execution_count": 4,
     "metadata": {},
     "output_type": "execute_result"
    }
   ],
   "source": [
    "# Посмотрим на полученный датафрейм\n",
    "all_data.head()"
   ]
  },
  {
   "cell_type": "code",
   "execution_count": 5,
   "metadata": {
    "execution": {
     "iopub.execute_input": "2021-10-12T06:34:49.496853Z",
     "iopub.status.busy": "2021-10-12T06:34:49.495967Z",
     "iopub.status.idle": "2021-10-12T06:34:49.510826Z",
     "shell.execute_reply": "2021-10-12T06:34:49.509812Z",
     "shell.execute_reply.started": "2021-10-12T06:34:49.496809Z"
    }
   },
   "outputs": [
    {
     "name": "stdout",
     "output_type": "stream",
     "text": [
      "<class 'pandas.core.frame.DataFrame'>\n",
      "RangeIndex: 1309 entries, 0 to 1308\n",
      "Data columns (total 12 columns):\n",
      " #   Column       Non-Null Count  Dtype  \n",
      "---  ------       --------------  -----  \n",
      " 0   PassengerId  1309 non-null   int64  \n",
      " 1   Survived     891 non-null    float64\n",
      " 2   Pclass       1309 non-null   int64  \n",
      " 3   Name         1309 non-null   object \n",
      " 4   Sex          1309 non-null   object \n",
      " 5   Age          1046 non-null   float64\n",
      " 6   SibSp        1309 non-null   int64  \n",
      " 7   Parch        1309 non-null   int64  \n",
      " 8   Ticket       1309 non-null   object \n",
      " 9   Fare         1308 non-null   float64\n",
      " 10  Cabin        295 non-null    object \n",
      " 11  Embarked     1307 non-null   object \n",
      "dtypes: float64(3), int64(4), object(5)\n",
      "memory usage: 122.8+ KB\n"
     ]
    }
   ],
   "source": [
    "# Посмотрим на описание датафрейма\n",
    "all_data.info()"
   ]
  },
  {
   "cell_type": "markdown",
   "metadata": {},
   "source": [
    "Имеем 1309 пассажиров: из них 891 относится к тренировочной выборке, для них определено поле Survived. В полях Имя, Пол, состав семьи, билет нет пропусков. Возраст не определен у 250 человек, попробуем восстановить его. Номер каюты определен менее чем у 30% пассажиров, это поле не дает нам никаких объективных и полезных знаний. "
   ]
  },
  {
   "cell_type": "code",
   "execution_count": 6,
   "metadata": {
    "execution": {
     "iopub.execute_input": "2021-10-12T06:34:51.709427Z",
     "iopub.status.busy": "2021-10-12T06:34:51.709141Z",
     "iopub.status.idle": "2021-10-12T06:34:51.721193Z",
     "shell.execute_reply": "2021-10-12T06:34:51.720245Z",
     "shell.execute_reply.started": "2021-10-12T06:34:51.7094Z"
    }
   },
   "outputs": [
    {
     "data": {
      "text/plain": [
       "Pclass  Sex     Survived\n",
       "1       female  1           0.968085\n",
       "                0           0.031915\n",
       "        male    0           0.631148\n",
       "                1           0.368852\n",
       "2       female  1           0.921053\n",
       "                0           0.078947\n",
       "        male    0           0.842593\n",
       "                1           0.157407\n",
       "3       female  0           0.500000\n",
       "                1           0.500000\n",
       "        male    0           0.864553\n",
       "                1           0.135447\n",
       "Name: Survived, dtype: float64"
      ]
     },
     "execution_count": 6,
     "metadata": {},
     "output_type": "execute_result"
    }
   ],
   "source": [
    "# Посмотрим на выживаемость в зависимости от класса и пола\n",
    "train_data.groupby([\"Pclass\", \"Sex\"])[\"Survived\"].value_counts(normalize=True)"
   ]
  },
  {
   "cell_type": "markdown",
   "metadata": {},
   "source": [
    "Видим, что выживаемость напрямую связана с полом и классмо пассажира. Выживаемость женщин во всех классах выше, чем мужчин.Также выживаеость тем выше, чем класс пассажира"
   ]
  },
  {
   "cell_type": "markdown",
   "metadata": {},
   "source": [
    "Для восстановления данных о возрасте используем имена пассажиров. Имена имеют обращение Мистер, Миссис и т.д. С помощью такого обращения можно определить к какой возрастной группе относится человек. Это поможет нам заменить пропуски на медиану возраста по данной возрастной группе."
   ]
  },
  {
   "cell_type": "code",
   "execution_count": 7,
   "metadata": {
    "execution": {
     "iopub.execute_input": "2021-10-12T06:34:54.025889Z",
     "iopub.status.busy": "2021-10-12T06:34:54.025612Z",
     "iopub.status.idle": "2021-10-12T06:34:54.0324Z",
     "shell.execute_reply": "2021-10-12T06:34:54.031832Z",
     "shell.execute_reply.started": "2021-10-12T06:34:54.025862Z"
    }
   },
   "outputs": [],
   "source": [
    "# Выделяем обращение из имени\n",
    "all_data['NamePrefix'] = all_data[\"Name\"].apply(lambda name: name.split(',')[1].split('.')[0].strip())"
   ]
  },
  {
   "cell_type": "code",
   "execution_count": 8,
   "metadata": {
    "execution": {
     "iopub.execute_input": "2021-10-12T06:34:55.651874Z",
     "iopub.status.busy": "2021-10-12T06:34:55.651451Z",
     "iopub.status.idle": "2021-10-12T06:34:55.658009Z",
     "shell.execute_reply": "2021-10-12T06:34:55.657154Z",
     "shell.execute_reply.started": "2021-10-12T06:34:55.651844Z"
    }
   },
   "outputs": [
    {
     "data": {
      "text/plain": [
       "array(['Mr', 'Mrs', 'Miss', 'Master', 'Don', 'Rev', 'Dr', 'Mme', 'Ms',\n",
       "       'Major', 'Lady', 'Sir', 'Mlle', 'Col', 'Capt', 'the Countess',\n",
       "       'Jonkheer', 'Dona'], dtype=object)"
      ]
     },
     "execution_count": 8,
     "metadata": {},
     "output_type": "execute_result"
    }
   ],
   "source": [
    "# Посмотрим на полученные обращения\n",
    "all_data['NamePrefix'].unique()"
   ]
  },
  {
   "cell_type": "markdown",
   "metadata": {},
   "source": [
    "На борту титаника были пассажиры разных стран. Попробуем привести все обращения к одному виду: например Mme французкий эквивалент обращения Mrs. Создадим словарь для преобразования эквивалентых обращений:"
   ]
  },
  {
   "cell_type": "code",
   "execution_count": 9,
   "metadata": {
    "execution": {
     "iopub.execute_input": "2021-10-12T06:34:57.891128Z",
     "iopub.status.busy": "2021-10-12T06:34:57.890631Z",
     "iopub.status.idle": "2021-10-12T06:34:57.901623Z",
     "shell.execute_reply": "2021-10-12T06:34:57.900697Z",
     "shell.execute_reply.started": "2021-10-12T06:34:57.891093Z"
    }
   },
   "outputs": [
    {
     "data": {
      "text/plain": [
       "Mr         757\n",
       "Miss       262\n",
       "Mrs        200\n",
       "Master      61\n",
       "Officer     23\n",
       "Royalty      6\n",
       "Name: NamePrefix, dtype: int64"
      ]
     },
     "execution_count": 9,
     "metadata": {},
     "output_type": "execute_result"
    }
   ],
   "source": [
    "normalized_titles = {\n",
    "    \"Capt\":       \"Officer\",\n",
    "    \"Col\":        \"Officer\",\n",
    "    \"Major\":      \"Officer\",\n",
    "    \"Jonkheer\":   \"Royalty\",\n",
    "    \"Don\":        \"Royalty\",\n",
    "    \"Sir\" :       \"Royalty\",\n",
    "    \"Dr\":         \"Officer\",\n",
    "    \"Rev\":        \"Officer\",\n",
    "    \"the Countess\":\"Royalty\",\n",
    "    \"Dona\":       \"Royalty\",\n",
    "    \"Mme\":        \"Mrs\",\n",
    "    \"Mlle\":       \"Miss\",\n",
    "    \"Ms\":         \"Mrs\",\n",
    "    \"Mr\" :        \"Mr\",\n",
    "    \"Mrs\" :       \"Mrs\",\n",
    "    \"Miss\" :      \"Miss\",\n",
    "    \"Master\" :    \"Master\",\n",
    "    \"Lady\" :      \"Royalty\"\n",
    "}\n",
    "\n",
    "all_data[\"NamePrefix\"] = all_data[\"NamePrefix\"].map(normalized_titles)\n",
    "all_data[\"NamePrefix\"].value_counts()"
   ]
  },
  {
   "cell_type": "markdown",
   "metadata": {},
   "source": [
    "Теперь мы имеем отдельный признак для каждого пассажира: его статус в обществе через обращение к нему. Теперь посчитаем медианный возраст для каждой группы пассажиров в зависимости от их класса. "
   ]
  },
  {
   "cell_type": "code",
   "execution_count": 10,
   "metadata": {
    "execution": {
     "iopub.execute_input": "2021-10-12T06:35:00.967215Z",
     "iopub.status.busy": "2021-10-12T06:35:00.966876Z",
     "iopub.status.idle": "2021-10-12T06:35:00.981241Z",
     "shell.execute_reply": "2021-10-12T06:35:00.980093Z",
     "shell.execute_reply.started": "2021-10-12T06:35:00.96718Z"
    }
   },
   "outputs": [
    {
     "data": {
      "text/plain": [
       "Sex     Pclass  NamePrefix\n",
       "female  1       Miss          30.0\n",
       "                Mrs           45.0\n",
       "                Officer       49.0\n",
       "                Royalty       39.0\n",
       "        2       Miss          20.0\n",
       "                Mrs           30.0\n",
       "        3       Miss          18.0\n",
       "                Mrs           31.0\n",
       "male    1       Master         6.0\n",
       "                Mr            41.5\n",
       "                Officer       52.0\n",
       "                Royalty       40.0\n",
       "        2       Master         2.0\n",
       "                Mr            30.0\n",
       "                Officer       41.5\n",
       "        3       Master         6.0\n",
       "                Mr            26.0\n",
       "Name: Age, dtype: float64"
      ]
     },
     "execution_count": 10,
     "metadata": {},
     "output_type": "execute_result"
    }
   ],
   "source": [
    "grouped = all_data.groupby(['Sex','Pclass', 'NamePrefix'])  \n",
    "grouped[\"Age\"].median()"
   ]
  },
  {
   "cell_type": "code",
   "execution_count": 11,
   "metadata": {
    "execution": {
     "iopub.execute_input": "2021-10-12T06:35:03.73366Z",
     "iopub.status.busy": "2021-10-12T06:35:03.732742Z",
     "iopub.status.idle": "2021-10-12T06:35:03.745323Z",
     "shell.execute_reply": "2021-10-12T06:35:03.744458Z",
     "shell.execute_reply.started": "2021-10-12T06:35:03.733619Z"
    }
   },
   "outputs": [],
   "source": [
    "all_data[\"Age\"] = grouped[\"Age\"].apply(lambda x: x.fillna(x.median()))"
   ]
  },
  {
   "cell_type": "code",
   "execution_count": 12,
   "metadata": {
    "execution": {
     "iopub.execute_input": "2021-10-12T06:35:06.004432Z",
     "iopub.status.busy": "2021-10-12T06:35:06.00416Z",
     "iopub.status.idle": "2021-10-12T06:35:06.019631Z",
     "shell.execute_reply": "2021-10-12T06:35:06.018668Z",
     "shell.execute_reply.started": "2021-10-12T06:35:06.004407Z"
    }
   },
   "outputs": [
    {
     "name": "stdout",
     "output_type": "stream",
     "text": [
      "<class 'pandas.core.frame.DataFrame'>\n",
      "RangeIndex: 1309 entries, 0 to 1308\n",
      "Data columns (total 13 columns):\n",
      " #   Column       Non-Null Count  Dtype  \n",
      "---  ------       --------------  -----  \n",
      " 0   PassengerId  1309 non-null   int64  \n",
      " 1   Survived     891 non-null    float64\n",
      " 2   Pclass       1309 non-null   int64  \n",
      " 3   Name         1309 non-null   object \n",
      " 4   Sex          1309 non-null   object \n",
      " 5   Age          1309 non-null   float64\n",
      " 6   SibSp        1309 non-null   int64  \n",
      " 7   Parch        1309 non-null   int64  \n",
      " 8   Ticket       1309 non-null   object \n",
      " 9   Fare         1308 non-null   float64\n",
      " 10  Cabin        295 non-null    object \n",
      " 11  Embarked     1307 non-null   object \n",
      " 12  NamePrefix   1309 non-null   object \n",
      "dtypes: float64(3), int64(4), object(6)\n",
      "memory usage: 133.1+ KB\n"
     ]
    }
   ],
   "source": [
    "#Посмотрим на изменения в колонке Возраст\n",
    "all_data.info()"
   ]
  },
  {
   "cell_type": "markdown",
   "metadata": {},
   "source": [
    "Теперь мы не имеем пропуск в поле возраст. Это должно помочь при анализе, так как возраст пассаижра является одним из главных показателей выживаемости."
   ]
  },
  {
   "cell_type": "code",
   "execution_count": 13,
   "metadata": {
    "execution": {
     "iopub.execute_input": "2021-10-12T06:35:10.584282Z",
     "iopub.status.busy": "2021-10-12T06:35:10.584014Z",
     "iopub.status.idle": "2021-10-12T06:35:10.600516Z",
     "shell.execute_reply": "2021-10-12T06:35:10.599416Z",
     "shell.execute_reply.started": "2021-10-12T06:35:10.584256Z"
    }
   },
   "outputs": [
    {
     "name": "stdout",
     "output_type": "stream",
     "text": [
      "<class 'pandas.core.frame.DataFrame'>\n",
      "RangeIndex: 1309 entries, 0 to 1308\n",
      "Data columns (total 13 columns):\n",
      " #   Column       Non-Null Count  Dtype  \n",
      "---  ------       --------------  -----  \n",
      " 0   PassengerId  1309 non-null   int64  \n",
      " 1   Survived     891 non-null    float64\n",
      " 2   Pclass       1309 non-null   int64  \n",
      " 3   Name         1309 non-null   object \n",
      " 4   Sex          1309 non-null   object \n",
      " 5   Age          1309 non-null   float64\n",
      " 6   SibSp        1309 non-null   int64  \n",
      " 7   Parch        1309 non-null   int64  \n",
      " 8   Ticket       1309 non-null   object \n",
      " 9   Fare         1309 non-null   float64\n",
      " 10  Cabin        295 non-null    object \n",
      " 11  Embarked     1307 non-null   object \n",
      " 12  NamePrefix   1309 non-null   object \n",
      "dtypes: float64(3), int64(4), object(6)\n",
      "memory usage: 133.1+ KB\n"
     ]
    }
   ],
   "source": [
    "# Заполним пропуск в графе Fare на медианное значение\n",
    "all_data[\"Fare\"] = all_data[\"Fare\"].fillna(all_data[\"Fare\"].median())\n",
    "\n",
    "# Посмотрим на изменения\n",
    "all_data.info()"
   ]
  },
  {
   "cell_type": "code",
   "execution_count": 14,
   "metadata": {
    "execution": {
     "iopub.execute_input": "2021-10-12T06:35:14.725858Z",
     "iopub.status.busy": "2021-10-12T06:35:14.72559Z",
     "iopub.status.idle": "2021-10-12T06:35:14.731296Z",
     "shell.execute_reply": "2021-10-12T06:35:14.730637Z",
     "shell.execute_reply.started": "2021-10-12T06:35:14.725831Z"
    }
   },
   "outputs": [],
   "source": [
    "# Синтезируем новый признак: размер семьи. Это можно сделать на основании числа родителей и числа братьев/сестер на борту\n",
    "all_data['FamilySize'] = all_data[\"Parch\"] + all_data[\"SibSp\"] + 1"
   ]
  },
  {
   "cell_type": "markdown",
   "metadata": {},
   "source": [
    "Большим семьям было тяжело получить место в спастельной лодке, в отличие от одиноких пассажиров или маленьких семей. Попробуем синтезировать новый признак и избавить от двух имеющихся(Parch и SibSp)."
   ]
  },
  {
   "cell_type": "code",
   "execution_count": 15,
   "metadata": {
    "execution": {
     "iopub.execute_input": "2021-10-12T06:35:17.760023Z",
     "iopub.status.busy": "2021-10-12T06:35:17.759728Z",
     "iopub.status.idle": "2021-10-12T06:35:17.78007Z",
     "shell.execute_reply": "2021-10-12T06:35:17.779164Z",
     "shell.execute_reply.started": "2021-10-12T06:35:17.759994Z"
    }
   },
   "outputs": [
    {
     "data": {
      "text/html": [
       "<div>\n",
       "<style scoped>\n",
       "    .dataframe tbody tr th:only-of-type {\n",
       "        vertical-align: middle;\n",
       "    }\n",
       "\n",
       "    .dataframe tbody tr th {\n",
       "        vertical-align: top;\n",
       "    }\n",
       "\n",
       "    .dataframe thead th {\n",
       "        text-align: right;\n",
       "    }\n",
       "</style>\n",
       "<table border=\"1\" class=\"dataframe\">\n",
       "  <thead>\n",
       "    <tr style=\"text-align: right;\">\n",
       "      <th></th>\n",
       "      <th>PassengerId</th>\n",
       "      <th>Survived</th>\n",
       "      <th>Pclass</th>\n",
       "      <th>Name</th>\n",
       "      <th>Sex</th>\n",
       "      <th>Age</th>\n",
       "      <th>SibSp</th>\n",
       "      <th>Parch</th>\n",
       "      <th>Ticket</th>\n",
       "      <th>Fare</th>\n",
       "      <th>Cabin</th>\n",
       "      <th>Embarked</th>\n",
       "      <th>NamePrefix</th>\n",
       "      <th>FamilySize</th>\n",
       "    </tr>\n",
       "  </thead>\n",
       "  <tbody>\n",
       "    <tr>\n",
       "      <th>0</th>\n",
       "      <td>1</td>\n",
       "      <td>0.0</td>\n",
       "      <td>3</td>\n",
       "      <td>Braund, Mr. Owen Harris</td>\n",
       "      <td>male</td>\n",
       "      <td>22.0</td>\n",
       "      <td>1</td>\n",
       "      <td>0</td>\n",
       "      <td>A/5 21171</td>\n",
       "      <td>7.2500</td>\n",
       "      <td>NaN</td>\n",
       "      <td>S</td>\n",
       "      <td>Mr</td>\n",
       "      <td>2</td>\n",
       "    </tr>\n",
       "    <tr>\n",
       "      <th>1</th>\n",
       "      <td>2</td>\n",
       "      <td>1.0</td>\n",
       "      <td>1</td>\n",
       "      <td>Cumings, Mrs. John Bradley (Florence Briggs Th...</td>\n",
       "      <td>female</td>\n",
       "      <td>38.0</td>\n",
       "      <td>1</td>\n",
       "      <td>0</td>\n",
       "      <td>PC 17599</td>\n",
       "      <td>71.2833</td>\n",
       "      <td>C85</td>\n",
       "      <td>C</td>\n",
       "      <td>Mrs</td>\n",
       "      <td>2</td>\n",
       "    </tr>\n",
       "    <tr>\n",
       "      <th>2</th>\n",
       "      <td>3</td>\n",
       "      <td>1.0</td>\n",
       "      <td>3</td>\n",
       "      <td>Heikkinen, Miss. Laina</td>\n",
       "      <td>female</td>\n",
       "      <td>26.0</td>\n",
       "      <td>0</td>\n",
       "      <td>0</td>\n",
       "      <td>STON/O2. 3101282</td>\n",
       "      <td>7.9250</td>\n",
       "      <td>NaN</td>\n",
       "      <td>S</td>\n",
       "      <td>Miss</td>\n",
       "      <td>1</td>\n",
       "    </tr>\n",
       "    <tr>\n",
       "      <th>3</th>\n",
       "      <td>4</td>\n",
       "      <td>1.0</td>\n",
       "      <td>1</td>\n",
       "      <td>Futrelle, Mrs. Jacques Heath (Lily May Peel)</td>\n",
       "      <td>female</td>\n",
       "      <td>35.0</td>\n",
       "      <td>1</td>\n",
       "      <td>0</td>\n",
       "      <td>113803</td>\n",
       "      <td>53.1000</td>\n",
       "      <td>C123</td>\n",
       "      <td>S</td>\n",
       "      <td>Mrs</td>\n",
       "      <td>2</td>\n",
       "    </tr>\n",
       "    <tr>\n",
       "      <th>4</th>\n",
       "      <td>5</td>\n",
       "      <td>0.0</td>\n",
       "      <td>3</td>\n",
       "      <td>Allen, Mr. William Henry</td>\n",
       "      <td>male</td>\n",
       "      <td>35.0</td>\n",
       "      <td>0</td>\n",
       "      <td>0</td>\n",
       "      <td>373450</td>\n",
       "      <td>8.0500</td>\n",
       "      <td>NaN</td>\n",
       "      <td>S</td>\n",
       "      <td>Mr</td>\n",
       "      <td>1</td>\n",
       "    </tr>\n",
       "  </tbody>\n",
       "</table>\n",
       "</div>"
      ],
      "text/plain": [
       "   PassengerId  Survived  Pclass  \\\n",
       "0            1       0.0       3   \n",
       "1            2       1.0       1   \n",
       "2            3       1.0       3   \n",
       "3            4       1.0       1   \n",
       "4            5       0.0       3   \n",
       "\n",
       "                                                Name     Sex   Age  SibSp  \\\n",
       "0                            Braund, Mr. Owen Harris    male  22.0      1   \n",
       "1  Cumings, Mrs. John Bradley (Florence Briggs Th...  female  38.0      1   \n",
       "2                             Heikkinen, Miss. Laina  female  26.0      0   \n",
       "3       Futrelle, Mrs. Jacques Heath (Lily May Peel)  female  35.0      1   \n",
       "4                           Allen, Mr. William Henry    male  35.0      0   \n",
       "\n",
       "   Parch            Ticket     Fare Cabin Embarked NamePrefix  FamilySize  \n",
       "0      0         A/5 21171   7.2500   NaN        S         Mr           2  \n",
       "1      0          PC 17599  71.2833   C85        C        Mrs           2  \n",
       "2      0  STON/O2. 3101282   7.9250   NaN        S       Miss           1  \n",
       "3      0            113803  53.1000  C123        S        Mrs           2  \n",
       "4      0            373450   8.0500   NaN        S         Mr           1  "
      ]
     },
     "execution_count": 15,
     "metadata": {},
     "output_type": "execute_result"
    }
   ],
   "source": [
    "# Посмотрим на устройство получившего датафрейма\n",
    "all_data.head()"
   ]
  },
  {
   "cell_type": "code",
   "execution_count": 16,
   "metadata": {
    "execution": {
     "iopub.execute_input": "2021-10-12T06:35:20.650531Z",
     "iopub.status.busy": "2021-10-12T06:35:20.650219Z",
     "iopub.status.idle": "2021-10-12T06:35:20.657157Z",
     "shell.execute_reply": "2021-10-12T06:35:20.656302Z",
     "shell.execute_reply.started": "2021-10-12T06:35:20.650501Z"
    }
   },
   "outputs": [],
   "source": [
    "# Нужно закодировать пол пассаижров. Мужчинам будет соответсовать 0, женщин 1.\n",
    "all_data[\"Sex\"] = all_data[\"Sex\"].map({\"male\": 0, \"female\":1})"
   ]
  },
  {
   "cell_type": "code",
   "execution_count": 17,
   "metadata": {
    "execution": {
     "iopub.execute_input": "2021-10-12T06:53:42.209192Z",
     "iopub.status.busy": "2021-10-12T06:53:42.208643Z",
     "iopub.status.idle": "2021-10-12T06:53:42.224543Z",
     "shell.execute_reply": "2021-10-12T06:53:42.223861Z",
     "shell.execute_reply.started": "2021-10-12T06:53:42.209145Z"
    }
   },
   "outputs": [
    {
     "data": {
      "text/html": [
       "<div>\n",
       "<style scoped>\n",
       "    .dataframe tbody tr th:only-of-type {\n",
       "        vertical-align: middle;\n",
       "    }\n",
       "\n",
       "    .dataframe tbody tr th {\n",
       "        vertical-align: top;\n",
       "    }\n",
       "\n",
       "    .dataframe thead th {\n",
       "        text-align: right;\n",
       "    }\n",
       "</style>\n",
       "<table border=\"1\" class=\"dataframe\">\n",
       "  <thead>\n",
       "    <tr style=\"text-align: right;\">\n",
       "      <th></th>\n",
       "      <th>PassengerId</th>\n",
       "      <th>Survived</th>\n",
       "      <th>Pclass</th>\n",
       "      <th>Sex</th>\n",
       "      <th>Age</th>\n",
       "      <th>Fare</th>\n",
       "      <th>FamilySize</th>\n",
       "    </tr>\n",
       "  </thead>\n",
       "  <tbody>\n",
       "    <tr>\n",
       "      <th>0</th>\n",
       "      <td>1</td>\n",
       "      <td>0.0</td>\n",
       "      <td>3</td>\n",
       "      <td>0</td>\n",
       "      <td>22.0</td>\n",
       "      <td>7.2500</td>\n",
       "      <td>2</td>\n",
       "    </tr>\n",
       "    <tr>\n",
       "      <th>1</th>\n",
       "      <td>2</td>\n",
       "      <td>1.0</td>\n",
       "      <td>1</td>\n",
       "      <td>1</td>\n",
       "      <td>38.0</td>\n",
       "      <td>71.2833</td>\n",
       "      <td>2</td>\n",
       "    </tr>\n",
       "    <tr>\n",
       "      <th>2</th>\n",
       "      <td>3</td>\n",
       "      <td>1.0</td>\n",
       "      <td>3</td>\n",
       "      <td>1</td>\n",
       "      <td>26.0</td>\n",
       "      <td>7.9250</td>\n",
       "      <td>1</td>\n",
       "    </tr>\n",
       "    <tr>\n",
       "      <th>3</th>\n",
       "      <td>4</td>\n",
       "      <td>1.0</td>\n",
       "      <td>1</td>\n",
       "      <td>1</td>\n",
       "      <td>35.0</td>\n",
       "      <td>53.1000</td>\n",
       "      <td>2</td>\n",
       "    </tr>\n",
       "    <tr>\n",
       "      <th>4</th>\n",
       "      <td>5</td>\n",
       "      <td>0.0</td>\n",
       "      <td>3</td>\n",
       "      <td>0</td>\n",
       "      <td>35.0</td>\n",
       "      <td>8.0500</td>\n",
       "      <td>1</td>\n",
       "    </tr>\n",
       "  </tbody>\n",
       "</table>\n",
       "</div>"
      ],
      "text/plain": [
       "   PassengerId  Survived  Pclass  Sex   Age     Fare  FamilySize\n",
       "0            1       0.0       3    0  22.0   7.2500           2\n",
       "1            2       1.0       1    1  38.0  71.2833           2\n",
       "2            3       1.0       3    1  26.0   7.9250           1\n",
       "3            4       1.0       1    1  35.0  53.1000           2\n",
       "4            5       0.0       3    0  35.0   8.0500           1"
      ]
     },
     "execution_count": 17,
     "metadata": {},
     "output_type": "execute_result"
    }
   ],
   "source": [
    "#Отбросим признаки, которые не будут участвовать в классификации: обращение к имени(мы его использовали для определния возраста),\n",
    "# имя, билет, порт посадки, \n",
    "# братья/сестры и родители(их мы синтезировали в отдельный признак FamilySize), номер каюты(мало у кого определен)\n",
    "all_data.drop(['NamePrefix', 'Cabin', 'Embarked','SibSp','Parch', 'Name', 'Ticket'], axis=1, inplace=True)\n",
    "all_data.head()"
   ]
  },
  {
   "cell_type": "markdown",
   "metadata": {},
   "source": [
    "Датасет готов для обучения и тестирования, можно начинать разделять его на тренировочную и тестовую части"
   ]
  },
  {
   "cell_type": "code",
   "execution_count": 18,
   "metadata": {
    "execution": {
     "iopub.execute_input": "2021-10-12T06:35:41.104575Z",
     "iopub.status.busy": "2021-10-12T06:35:41.104276Z",
     "iopub.status.idle": "2021-10-12T06:35:41.114917Z",
     "shell.execute_reply": "2021-10-12T06:35:41.114291Z",
     "shell.execute_reply.started": "2021-10-12T06:35:41.104543Z"
    }
   },
   "outputs": [
    {
     "data": {
      "text/plain": [
       "array([[  1.    ,   3.    ,   0.    ,  22.    ,   7.25  ,   2.    ],\n",
       "       [  2.    ,   1.    ,   1.    ,  38.    ,  71.2833,   2.    ],\n",
       "       [  3.    ,   3.    ,   1.    ,  26.    ,   7.925 ,   1.    ],\n",
       "       ...,\n",
       "       [889.    ,   3.    ,   1.    ,  18.    ,  23.45  ,   4.    ],\n",
       "       [890.    ,   1.    ,   0.    ,  26.    ,  30.    ,   1.    ],\n",
       "       [891.    ,   3.    ,   0.    ,  32.    ,   7.75  ,   1.    ]])"
      ]
     },
     "execution_count": 18,
     "metadata": {},
     "output_type": "execute_result"
    }
   ],
   "source": [
    "# Рзаделям исправленный датасет\n",
    "train = all_data[ :train_idx]\n",
    "test = all_data[test_idx: ]\n",
    "\n",
    "# Создаем numpy array с тренировочной выборкой и целевую переменную\n",
    "X = train.drop('Survived', axis=1).values \n",
    "y = train[\"Survived\"].values\n",
    "y = y.astype(\"int\")\n",
    "\n",
    "# Создаем numpy array для предсказания\n",
    "X_test = test.drop('Survived', axis=1).values\n",
    "X"
   ]
  },
  {
   "cell_type": "code",
   "execution_count": 19,
   "metadata": {
    "execution": {
     "iopub.execute_input": "2021-10-12T07:07:22.036516Z",
     "iopub.status.busy": "2021-10-12T07:07:22.036224Z",
     "iopub.status.idle": "2021-10-12T07:07:22.042176Z",
     "shell.execute_reply": "2021-10-12T07:07:22.04116Z",
     "shell.execute_reply.started": "2021-10-12T07:07:22.036485Z"
    }
   },
   "outputs": [],
   "source": [
    "# Попробуем перебрать некоторые парметры случайного леса: максимальную глубинку дерева, \n",
    "# количесто деревьев в лесу и гиперпарметры разделения внутренних вершин дерева\n",
    "forrest_params = dict(     \n",
    "    max_depth = [n for n in range(9, 15)],     \n",
    "    min_samples_split = [n for n in range(4, 11)], \n",
    "    min_samples_leaf = [n for n in range(2, 5)],     \n",
    "    n_estimators = [n for n in range(10, 20, 1)],\n",
    ")"
   ]
  },
  {
   "cell_type": "code",
   "execution_count": 20,
   "metadata": {
    "execution": {
     "iopub.execute_input": "2021-10-12T06:35:49.247966Z",
     "iopub.status.busy": "2021-10-12T06:35:49.246866Z",
     "iopub.status.idle": "2021-10-12T06:35:49.251609Z",
     "shell.execute_reply": "2021-10-12T06:35:49.251028Z",
     "shell.execute_reply.started": "2021-10-12T06:35:49.24791Z"
    }
   },
   "outputs": [],
   "source": [
    "# создаем экемпляр Случайного леса\n",
    "forrest = RandomForestClassifier()"
   ]
  },
  {
   "cell_type": "code",
   "execution_count": 21,
   "metadata": {
    "execution": {
     "iopub.execute_input": "2021-10-12T07:07:25.783132Z",
     "iopub.status.busy": "2021-10-12T07:07:25.782854Z",
     "iopub.status.idle": "2021-10-12T07:10:22.610271Z",
     "shell.execute_reply": "2021-10-12T07:10:22.609394Z",
     "shell.execute_reply.started": "2021-10-12T07:07:25.783107Z"
    }
   },
   "outputs": [
    {
     "data": {
      "text/plain": [
       "GridSearchCV(cv=5, estimator=RandomForestClassifier(),\n",
       "             param_grid={'max_depth': [9, 10, 11, 12, 13, 14],\n",
       "                         'min_samples_leaf': [2, 3, 4],\n",
       "                         'min_samples_split': [4, 5, 6, 7, 8, 9, 10],\n",
       "                         'n_estimators': [10, 11, 12, 13, 14, 15, 16, 17, 18,\n",
       "                                          19]})"
      ]
     },
     "execution_count": 21,
     "metadata": {},
     "output_type": "execute_result"
    }
   ],
   "source": [
    "# Создаем класс для подрбора параметров случайного леса и обучаем модель\n",
    "forest_cv = GridSearchCV(estimator=forrest, param_grid=forrest_params, cv=5) \n",
    "forest_cv.fit(X, y)"
   ]
  },
  {
   "cell_type": "code",
   "execution_count": 22,
   "metadata": {
    "execution": {
     "iopub.execute_input": "2021-10-12T07:17:37.85437Z",
     "iopub.status.busy": "2021-10-12T07:17:37.854055Z",
     "iopub.status.idle": "2021-10-12T07:17:37.861326Z",
     "shell.execute_reply": "2021-10-12T07:17:37.860296Z",
     "shell.execute_reply.started": "2021-10-12T07:17:37.85434Z"
    }
   },
   "outputs": [
    {
     "name": "stdout",
     "output_type": "stream",
     "text": [
      "Наилучший рузльтат: 0.8462494507563869\n",
      "Оптимальные параметры: RandomForestClassifier(max_depth=11, min_samples_leaf=4, min_samples_split=9,\n",
      "                       n_estimators=14)\n"
     ]
    }
   ],
   "source": [
    "print(\"Наилучший рузльтат: {}\".format(forest_cv.best_score_))\n",
    "print(\"Оптимальные параметры: {}\".format(forest_cv.best_estimator_))"
   ]
  },
  {
   "cell_type": "code",
   "execution_count": 23,
   "metadata": {
    "execution": {
     "iopub.execute_input": "2021-10-12T07:17:40.378452Z",
     "iopub.status.busy": "2021-10-12T07:17:40.377686Z",
     "iopub.status.idle": "2021-10-12T07:17:40.38522Z",
     "shell.execute_reply": "2021-10-12T07:17:40.384356Z",
     "shell.execute_reply.started": "2021-10-12T07:17:40.378406Z"
    }
   },
   "outputs": [],
   "source": [
    "# Используем обученную модель для предсказаний\n",
    "forrest_pred = forest_cv.predict(X_test)"
   ]
  },
  {
   "cell_type": "code",
   "execution_count": 24,
   "metadata": {
    "execution": {
     "iopub.execute_input": "2021-10-12T07:17:43.371793Z",
     "iopub.status.busy": "2021-10-12T07:17:43.370851Z",
     "iopub.status.idle": "2021-10-12T07:17:43.380077Z",
     "shell.execute_reply": "2021-10-12T07:17:43.37926Z",
     "shell.execute_reply.started": "2021-10-12T07:17:43.37174Z"
    }
   },
   "outputs": [],
   "source": [
    "# Формируем датафрейм с предксакзаниями\n",
    "passengerId = test_data[\"PassengerId\"]\n",
    "result = pd.DataFrame({'PassengerId': passengerId, 'Survived': forrest_pred})\n",
    "\n",
    "# сохранем результат в файл\n",
    "result.to_csv('titanic.csv', index=False)"
   ]
  }
 ],
 "metadata": {
  "kernelspec": {
   "display_name": "Python 3",
   "language": "python",
   "name": "python3"
  },
  "language_info": {
   "codemirror_mode": {
    "name": "ipython",
    "version": 3
   },
   "file_extension": ".py",
   "mimetype": "text/x-python",
   "name": "python",
   "nbconvert_exporter": "python",
   "pygments_lexer": "ipython3",
   "version": "3.8.11"
  }
 },
 "nbformat": 4,
 "nbformat_minor": 4
}
